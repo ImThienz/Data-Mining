{
 "cells": [
  {
   "cell_type": "code",
   "execution_count": 6,
   "id": "9beb3366-755e-41a1-ae65-9c22b1acc730",
   "metadata": {},
   "outputs": [],
   "source": [
    "import pandas as pd\n",
    "import numpy as np\n",
    "import matplotlib.pyplot as plt\n",
    "import seaborn as sns\n",
    "import re"
   ]
  },
  {
   "cell_type": "code",
   "execution_count": 7,
   "id": "4bdd3ff2-04c6-4431-968b-85e056550c7c",
   "metadata": {},
   "outputs": [],
   "source": [
    "# Đọc dữ liệu từ tệp Excel\n",
    "data = pd.read_excel('real_estate_listings.xlsx')\n"
   ]
  },
  {
   "cell_type": "code",
   "execution_count": 8,
   "id": "9c277960-82df-41e2-a019-b1ba89243c7c",
   "metadata": {},
   "outputs": [
    {
     "name": "stdout",
     "output_type": "stream",
     "text": [
      "Các cột có trong tập dữ liệu:\n",
      "- Vị trí\n",
      "- Giá\n",
      "- Loại nhà\n",
      "- Diện tích đất\n",
      "- Số phòng ngủ\n",
      "- Số toilet\n",
      "- Tổng số tầng\n",
      "- Hướng cửa chính\n",
      "- Hướng ban công\n",
      "- Giấy tờ pháp lý\n"
     ]
    }
   ],
   "source": [
    "# In ra danh sách các cột để kiểm tra dữ liệu\n",
    "print(\"Các cột có trong tập dữ liệu:\")\n",
    "for col in data.columns:\n",
    "    print(f\"- {col}\")\n"
   ]
  },
  {
   "cell_type": "code",
   "execution_count": 9,
   "id": "c2b19aee-0814-4064-a37a-706058a5a5b9",
   "metadata": {},
   "outputs": [],
   "source": [
    "# Hàm chuyển đổi giá bất động sản từ chuỗi sang số (đơn vị: tỷ đồng)\n",
    "def convert_price_to_numeric(price_str):\n",
    "    if pd.isna(price_str):  # Kiểm tra nếu giá trị bị thiếu\n",
    "        return np.nan\n",
    "    \n",
    "    price_str = str(price_str).strip()  # Chuyển sang chuỗi và loại bỏ khoảng trắng\n",
    "    \n",
    "    # Xử lý giá có đơn vị \"tỷ\"\n",
    "    if 'tỷ' in price_str:\n",
    "        match = re.search(r'(\\d+(?:[\\.,]\\d+)?)\\s*tỷ(?:\\s*(\\d+(?:[\\.,]\\d+)?)\\s*triệu)?', price_str)\n",
    "        if match:\n",
    "            billions = float(match.group(1).replace(',', '.'))  # Lấy phần \"tỷ\"\n",
    "            millions = float(match.group(2).replace(',', '.')) / 1000 if match.group(2) else 0  # Chuyển \"triệu\" thành \"tỷ\"\n",
    "            return billions + millions\n",
    "    \n",
    "    # Xử lý giá có đơn vị \"triệu\"\n",
    "    elif 'triệu' in price_str:\n",
    "        match = re.search(r'(\\d+(?:[\\.,]\\d+)?)\\s*triệu', price_str)\n",
    "        if match:\n",
    "            return float(match.group(1).replace(',', '.')) / 1000  # Chuyển triệu thành tỷ\n",
    "    \n",
    "    # Xử lý giá trị đã là số\n",
    "    try:\n",
    "        return float(price_str.replace(',', '.'))\n",
    "    except:\n",
    "        return np.nan"
   ]
  },
  {
   "cell_type": "code",
   "execution_count": 10,
   "id": "519601e0-fc3b-4b6f-9359-179736eb616e",
   "metadata": {},
   "outputs": [],
   "source": [
    "# Chuyển đổi cột \"Giá\" thành dạng số nếu có\n",
    "if 'Giá' in data.columns:\n",
    "    data['Giá_numeric'] = data['Giá'].apply(convert_price_to_numeric)\n",
    "else:\n",
    "    price_columns = [col for col in data.columns if 'giá' in col.lower() or 'gia' in col.lower()]\n",
    "    if price_columns:\n",
    "        print(f\"Sử dụng cột giá: {price_columns[0]}\")\n",
    "        data['Giá_numeric'] = data[price_columns[0]].apply(convert_price_to_numeric)\n",
    "    else:\n",
    "        raise ValueError(\"Không tìm thấy cột giá trong tập dữ liệu\")\n"
   ]
  },
  {
   "cell_type": "code",
   "execution_count": 11,
   "id": "492327d1-ad92-422c-b6ec-16bb0aff660a",
   "metadata": {},
   "outputs": [],
   "source": [
    "# Hàm chuyển đổi diện tích từ chuỗi sang số\n",
    "def convert_area_to_numeric(area_str):\n",
    "    if pd.isna(area_str):\n",
    "        return np.nan\n",
    "    \n",
    "    area_str = str(area_str).strip()\n",
    "    match = re.search(r'(\\d+(?:[\\.,]\\d+)?)', area_str)\n",
    "    if match:\n",
    "        return float(match.group(1).replace(',', '.'))\n",
    "    \n",
    "    return np.nan"
   ]
  },
  {
   "cell_type": "code",
   "execution_count": 12,
   "id": "626ac35a-566b-4e20-8a27-000940c829fe",
   "metadata": {},
   "outputs": [
    {
     "name": "stdout",
     "output_type": "stream",
     "text": [
      "Các cột diện tích được tìm thấy: ['Diện tích đất']\n"
     ]
    }
   ],
   "source": [
    "# Tìm các cột có thể chứa diện tích\n",
    "area_columns = [col for col in data.columns if 'diện tích' in col.lower() or 'dien tich' in col.lower() or 'm²' in str(col).lower()]\n",
    "print(f\"Các cột diện tích được tìm thấy: {area_columns}\")"
   ]
  },
  {
   "cell_type": "code",
   "execution_count": 13,
   "id": "d8473191-21cd-46dd-b0d4-e3cc9848c7c7",
   "metadata": {},
   "outputs": [],
   "source": [
    "# Chuyển đổi diện tích sang số\n",
    "for col in area_columns:\n",
    "    data[f'{col}_numeric'] = data[col].apply(convert_area_to_numeric) if data[col].dtype == 'object' else data[col]"
   ]
  },
  {
   "cell_type": "code",
   "execution_count": 14,
   "id": "e727c331-3037-4c7c-9d26-f8c955e492a7",
   "metadata": {},
   "outputs": [
    {
     "name": "stdout",
     "output_type": "stream",
     "text": [
      "Các cột liên quan đến phòng/toilet/tầng: ['Số phòng ngủ', 'Số toilet', 'Tổng số tầng']\n"
     ]
    }
   ],
   "source": [
    "# Tìm các cột liên quan đến số phòng, số toilet, số tầng\n",
    "room_columns = [col for col in data.columns if any(x in col.lower() for x in ['phòng', 'phong', 'toilet', 'wc', 'tầng', 'tang'])]\n",
    "print(f\"Các cột liên quan đến phòng/toilet/tầng: {room_columns}\")"
   ]
  },
  {
   "cell_type": "code",
   "execution_count": 15,
   "id": "e7e79167-403a-42ba-954e-2bd639d08b55",
   "metadata": {},
   "outputs": [],
   "source": [
    "# Xác định các cột số để sử dụng trong mô hình\n",
    "numeric_columns = ['Giá_numeric'] + [f'{col}_numeric' for col in area_columns]\n",
    "for col in room_columns:\n",
    "    data[col] = pd.to_numeric(data[col], errors='coerce')\n",
    "    if not data[col].isna().all():\n",
    "        numeric_columns.append(col)"
   ]
  },
  {
   "cell_type": "code",
   "execution_count": 16,
   "id": "5b8c4133-869d-4301-a4bf-9d049e96e7c4",
   "metadata": {},
   "outputs": [
    {
     "name": "stdout",
     "output_type": "stream",
     "text": [
      "Các cột số cuối cùng sẽ được sử dụng trong mô hình: ['Giá_numeric', 'Diện tích đất_numeric', 'Tổng số tầng']\n"
     ]
    }
   ],
   "source": [
    "print(\"Các cột số cuối cùng sẽ được sử dụng trong mô hình:\", numeric_columns)\n"
   ]
  },
  {
   "cell_type": "code",
   "execution_count": 17,
   "id": "ac675a42-b2d6-4f5b-a057-fae2890364a4",
   "metadata": {},
   "outputs": [
    {
     "name": "stdout",
     "output_type": "stream",
     "text": [
      "Giá trung vị: 4.66 tỷ đồng\n"
     ]
    }
   ],
   "source": [
    "# Xác định giá trung vị để làm biến mục tiêu\n",
    "median_price = data['Giá_numeric'].median()\n",
    "print(f\"Giá trung vị: {median_price} tỷ đồng\")\n",
    "data['AboveMedianPrice'] = (data['Giá_numeric'] > median_price).astype(int)"
   ]
  },
  {
   "cell_type": "code",
   "execution_count": 18,
   "id": "523c3919-4232-489e-bf47-6e846bbac9c1",
   "metadata": {},
   "outputs": [],
   "source": [
    "# Chuẩn bị dữ liệu cho mô hình\n",
    "X = data[numeric_columns].fillna(data[numeric_columns].mean())\n",
    "y = data['AboveMedianPrice']\n"
   ]
  },
  {
   "cell_type": "code",
   "execution_count": 19,
   "id": "9d0ec25b-42df-4790-b4e7-a6b83378d4f0",
   "metadata": {},
   "outputs": [],
   "source": [
    "# Chuẩn hóa dữ liệu\n",
    "from sklearn.preprocessing import MinMaxScaler\n",
    "scaler = MinMaxScaler()\n",
    "X_scaled = scaler.fit_transform(X)\n"
   ]
  },
  {
   "cell_type": "code",
   "execution_count": 20,
   "id": "c0d74bc7-89b3-4794-ad9d-bd006d4d2997",
   "metadata": {},
   "outputs": [],
   "source": [
    "# Chia tập dữ liệu thành tập huấn luyện, kiểm tra và xác thực\n",
    "from sklearn.model_selection import train_test_split\n",
    "X_train, X_val_test, y_train, y_val_test = train_test_split(X_scaled, y, test_size=0.3, random_state=42)\n",
    "X_val, X_test, y_val, y_test = train_test_split(X_val_test, y_val_test, test_size=0.5, random_state=42)"
   ]
  },
  {
   "cell_type": "code",
   "execution_count": 21,
   "id": "fb34c384-39ea-496a-9d21-3f971af6fe3e",
   "metadata": {},
   "outputs": [
    {
     "name": "stderr",
     "output_type": "stream",
     "text": [
      "C:\\Users\\DELL\\anaconda3\\envs\\myenv\\lib\\site-packages\\keras\\src\\layers\\core\\dense.py:87: UserWarning: Do not pass an `input_shape`/`input_dim` argument to a layer. When using Sequential models, prefer using an `Input(shape)` object as the first layer in the model instead.\n",
      "  super().__init__(activity_regularizer=activity_regularizer, **kwargs)\n"
     ]
    }
   ],
   "source": [
    "# Xây dựng mô hình mạng nơ-ron bằng Keras\n",
    "from keras.models import Sequential\n",
    "from keras.layers import Dense\n",
    "\n",
    "input_size = X_train.shape[1]\n",
    "model = Sequential([\n",
    "    Dense(32, activation='relu', input_shape=(input_size,)),\n",
    "    Dense(32, activation='relu'),\n",
    "    Dense(1, activation='sigmoid'),\n",
    "])"
   ]
  },
  {
   "cell_type": "code",
   "execution_count": null,
   "id": "0329ec60-2558-4f2d-9624-93b5e610cad2",
   "metadata": {},
   "outputs": [],
   "source": [
    "# Biên dịch mô hình\n",
    "model.compile(optimizer='sgd', loss='binary_crossentropy', metrics=['accuracy'])"
   ]
  },
  {
   "cell_type": "code",
   "execution_count": 23,
   "id": "c3807fc1-81ae-4625-9839-33cd002eb498",
   "metadata": {},
   "outputs": [
    {
     "name": "stdout",
     "output_type": "stream",
     "text": [
      "Epoch 1/100\n",
      "\u001b[1m570/570\u001b[0m \u001b[32m━━━━━━━━━━━━━━━━━━━━\u001b[0m\u001b[37m\u001b[0m \u001b[1m1s\u001b[0m 1ms/step - accuracy: 0.5574 - loss: 0.6868 - val_accuracy: 0.5672 - val_loss: 0.6785\n",
      "Epoch 2/100\n",
      "\u001b[1m570/570\u001b[0m \u001b[32m━━━━━━━━━━━━━━━━━━━━\u001b[0m\u001b[37m\u001b[0m \u001b[1m1s\u001b[0m 1ms/step - accuracy: 0.5591 - loss: 0.6788 - val_accuracy: 0.5672 - val_loss: 0.6747\n",
      "Epoch 3/100\n",
      "\u001b[1m570/570\u001b[0m \u001b[32m━━━━━━━━━━━━━━━━━━━━\u001b[0m\u001b[37m\u001b[0m \u001b[1m1s\u001b[0m 1ms/step - accuracy: 0.5559 - loss: 0.6761 - val_accuracy: 0.5669 - val_loss: 0.6714\n",
      "Epoch 4/100\n",
      "\u001b[1m570/570\u001b[0m \u001b[32m━━━━━━━━━━━━━━━━━━━━\u001b[0m\u001b[37m\u001b[0m \u001b[1m1s\u001b[0m 1ms/step - accuracy: 0.5583 - loss: 0.6717 - val_accuracy: 0.5687 - val_loss: 0.6665\n",
      "Epoch 5/100\n",
      "\u001b[1m570/570\u001b[0m \u001b[32m━━━━━━━━━━━━━━━━━━━━\u001b[0m\u001b[37m\u001b[0m \u001b[1m1s\u001b[0m 1ms/step - accuracy: 0.5637 - loss: 0.6659 - val_accuracy: 0.6153 - val_loss: 0.6613\n",
      "Epoch 6/100\n",
      "\u001b[1m570/570\u001b[0m \u001b[32m━━━━━━━━━━━━━━━━━━━━\u001b[0m\u001b[37m\u001b[0m \u001b[1m1s\u001b[0m 1ms/step - accuracy: 0.6019 - loss: 0.6613 - val_accuracy: 0.6163 - val_loss: 0.6554\n",
      "Epoch 7/100\n",
      "\u001b[1m570/570\u001b[0m \u001b[32m━━━━━━━━━━━━━━━━━━━━\u001b[0m\u001b[37m\u001b[0m \u001b[1m1s\u001b[0m 1ms/step - accuracy: 0.6123 - loss: 0.6537 - val_accuracy: 0.6317 - val_loss: 0.6469\n",
      "Epoch 8/100\n",
      "\u001b[1m570/570\u001b[0m \u001b[32m━━━━━━━━━━━━━━━━━━━━\u001b[0m\u001b[37m\u001b[0m \u001b[1m1s\u001b[0m 1ms/step - accuracy: 0.6213 - loss: 0.6459 - val_accuracy: 0.6335 - val_loss: 0.6363\n",
      "Epoch 9/100\n",
      "\u001b[1m570/570\u001b[0m \u001b[32m━━━━━━━━━━━━━━━━━━━━\u001b[0m\u001b[37m\u001b[0m \u001b[1m1s\u001b[0m 1ms/step - accuracy: 0.6301 - loss: 0.6339 - val_accuracy: 0.6337 - val_loss: 0.6232\n",
      "Epoch 10/100\n",
      "\u001b[1m570/570\u001b[0m \u001b[32m━━━━━━━━━━━━━━━━━━━━\u001b[0m\u001b[37m\u001b[0m \u001b[1m1s\u001b[0m 1ms/step - accuracy: 0.6721 - loss: 0.6205 - val_accuracy: 0.7530 - val_loss: 0.6076\n",
      "Epoch 11/100\n",
      "\u001b[1m570/570\u001b[0m \u001b[32m━━━━━━━━━━━━━━━━━━━━\u001b[0m\u001b[37m\u001b[0m \u001b[1m1s\u001b[0m 1ms/step - accuracy: 0.7260 - loss: 0.6046 - val_accuracy: 0.7530 - val_loss: 0.5877\n",
      "Epoch 12/100\n",
      "\u001b[1m570/570\u001b[0m \u001b[32m━━━━━━━━━━━━━━━━━━━━\u001b[0m\u001b[37m\u001b[0m \u001b[1m1s\u001b[0m 1ms/step - accuracy: 0.7930 - loss: 0.5839 - val_accuracy: 0.8805 - val_loss: 0.5654\n",
      "Epoch 13/100\n",
      "\u001b[1m570/570\u001b[0m \u001b[32m━━━━━━━━━━━━━━━━━━━━\u001b[0m\u001b[37m\u001b[0m \u001b[1m1s\u001b[0m 1ms/step - accuracy: 0.8534 - loss: 0.5601 - val_accuracy: 0.8349 - val_loss: 0.5425\n",
      "Epoch 14/100\n",
      "\u001b[1m570/570\u001b[0m \u001b[32m━━━━━━━━━━━━━━━━━━━━\u001b[0m\u001b[37m\u001b[0m \u001b[1m1s\u001b[0m 1ms/step - accuracy: 0.8708 - loss: 0.5302 - val_accuracy: 0.8155 - val_loss: 0.5091\n",
      "Epoch 15/100\n",
      "\u001b[1m570/570\u001b[0m \u001b[32m━━━━━━━━━━━━━━━━━━━━\u001b[0m\u001b[37m\u001b[0m \u001b[1m1s\u001b[0m 1ms/step - accuracy: 0.8930 - loss: 0.5000 - val_accuracy: 0.9319 - val_loss: 0.4761\n",
      "Epoch 16/100\n",
      "\u001b[1m570/570\u001b[0m \u001b[32m━━━━━━━━━━━━━━━━━━━━\u001b[0m\u001b[37m\u001b[0m \u001b[1m1s\u001b[0m 1ms/step - accuracy: 0.9084 - loss: 0.4687 - val_accuracy: 0.9319 - val_loss: 0.4432\n",
      "Epoch 17/100\n",
      "\u001b[1m570/570\u001b[0m \u001b[32m━━━━━━━━━━━━━━━━━━━━\u001b[0m\u001b[37m\u001b[0m \u001b[1m1s\u001b[0m 1ms/step - accuracy: 0.9162 - loss: 0.4386 - val_accuracy: 0.8871 - val_loss: 0.4117\n",
      "Epoch 18/100\n",
      "\u001b[1m570/570\u001b[0m \u001b[32m━━━━━━━━━━━━━━━━━━━━\u001b[0m\u001b[37m\u001b[0m \u001b[1m1s\u001b[0m 1ms/step - accuracy: 0.9160 - loss: 0.4043 - val_accuracy: 0.9322 - val_loss: 0.3800\n",
      "Epoch 19/100\n",
      "\u001b[1m570/570\u001b[0m \u001b[32m━━━━━━━━━━━━━━━━━━━━\u001b[0m\u001b[37m\u001b[0m \u001b[1m1s\u001b[0m 1ms/step - accuracy: 0.9232 - loss: 0.3732 - val_accuracy: 0.9242 - val_loss: 0.3494\n",
      "Epoch 20/100\n",
      "\u001b[1m570/570\u001b[0m \u001b[32m━━━━━━━━━━━━━━━━━━━━\u001b[0m\u001b[37m\u001b[0m \u001b[1m1s\u001b[0m 1ms/step - accuracy: 0.9267 - loss: 0.3443 - val_accuracy: 0.9718 - val_loss: 0.3219\n",
      "Epoch 21/100\n",
      "\u001b[1m570/570\u001b[0m \u001b[32m━━━━━━━━━━━━━━━━━━━━\u001b[0m\u001b[37m\u001b[0m \u001b[1m1s\u001b[0m 1ms/step - accuracy: 0.9337 - loss: 0.3126 - val_accuracy: 0.9340 - val_loss: 0.2965\n",
      "Epoch 22/100\n",
      "\u001b[1m570/570\u001b[0m \u001b[32m━━━━━━━━━━━━━━━━━━━━\u001b[0m\u001b[37m\u001b[0m \u001b[1m1s\u001b[0m 1ms/step - accuracy: 0.9312 - loss: 0.2895 - val_accuracy: 0.9347 - val_loss: 0.2742\n",
      "Epoch 23/100\n",
      "\u001b[1m570/570\u001b[0m \u001b[32m━━━━━━━━━━━━━━━━━━━━\u001b[0m\u001b[37m\u001b[0m \u001b[1m1s\u001b[0m 1ms/step - accuracy: 0.9320 - loss: 0.2693 - val_accuracy: 0.9350 - val_loss: 0.2871\n",
      "Epoch 24/100\n",
      "\u001b[1m570/570\u001b[0m \u001b[32m━━━━━━━━━━━━━━━━━━━━\u001b[0m\u001b[37m\u001b[0m \u001b[1m1s\u001b[0m 1ms/step - accuracy: 0.9341 - loss: 0.2525 - val_accuracy: 0.9340 - val_loss: 0.2370\n",
      "Epoch 25/100\n",
      "\u001b[1m570/570\u001b[0m \u001b[32m━━━━━━━━━━━━━━━━━━━━\u001b[0m\u001b[37m\u001b[0m \u001b[1m1s\u001b[0m 1ms/step - accuracy: 0.9355 - loss: 0.2303 - val_accuracy: 0.9342 - val_loss: 0.2261\n",
      "Epoch 26/100\n",
      "\u001b[1m570/570\u001b[0m \u001b[32m━━━━━━━━━━━━━━━━━━━━\u001b[0m\u001b[37m\u001b[0m \u001b[1m1s\u001b[0m 1ms/step - accuracy: 0.9336 - loss: 0.2233 - val_accuracy: 0.9340 - val_loss: 0.2108\n",
      "Epoch 27/100\n",
      "\u001b[1m570/570\u001b[0m \u001b[32m━━━━━━━━━━━━━━━━━━━━\u001b[0m\u001b[37m\u001b[0m \u001b[1m1s\u001b[0m 1ms/step - accuracy: 0.9362 - loss: 0.2070 - val_accuracy: 0.9347 - val_loss: 0.2016\n",
      "Epoch 28/100\n",
      "\u001b[1m570/570\u001b[0m \u001b[32m━━━━━━━━━━━━━━━━━━━━\u001b[0m\u001b[37m\u001b[0m \u001b[1m1s\u001b[0m 1ms/step - accuracy: 0.9315 - loss: 0.2062 - val_accuracy: 0.9460 - val_loss: 0.2544\n",
      "Epoch 29/100\n",
      "\u001b[1m570/570\u001b[0m \u001b[32m━━━━━━━━━━━━━━━━━━━━\u001b[0m\u001b[37m\u001b[0m \u001b[1m1s\u001b[0m 1ms/step - accuracy: 0.9335 - loss: 0.1957 - val_accuracy: 0.9365 - val_loss: 0.2220\n",
      "Epoch 30/100\n",
      "\u001b[1m570/570\u001b[0m \u001b[32m━━━━━━━━━━━━━━━━━━━━\u001b[0m\u001b[37m\u001b[0m \u001b[1m1s\u001b[0m 1ms/step - accuracy: 0.9350 - loss: 0.1849 - val_accuracy: 0.9342 - val_loss: 0.1777\n",
      "Epoch 31/100\n",
      "\u001b[1m570/570\u001b[0m \u001b[32m━━━━━━━━━━━━━━━━━━━━\u001b[0m\u001b[37m\u001b[0m \u001b[1m1s\u001b[0m 1ms/step - accuracy: 0.9354 - loss: 0.1775 - val_accuracy: 0.9363 - val_loss: 0.1797\n",
      "Epoch 32/100\n",
      "\u001b[1m570/570\u001b[0m \u001b[32m━━━━━━━━━━━━━━━━━━━━\u001b[0m\u001b[37m\u001b[0m \u001b[1m1s\u001b[0m 2ms/step - accuracy: 0.9340 - loss: 0.1735 - val_accuracy: 0.9352 - val_loss: 0.1640\n",
      "Epoch 33/100\n",
      "\u001b[1m570/570\u001b[0m \u001b[32m━━━━━━━━━━━━━━━━━━━━\u001b[0m\u001b[37m\u001b[0m \u001b[1m1s\u001b[0m 1ms/step - accuracy: 0.9354 - loss: 0.1701 - val_accuracy: 0.9358 - val_loss: 0.1620\n",
      "Epoch 34/100\n",
      "\u001b[1m570/570\u001b[0m \u001b[32m━━━━━━━━━━━━━━━━━━━━\u001b[0m\u001b[37m\u001b[0m \u001b[1m1s\u001b[0m 1ms/step - accuracy: 0.9351 - loss: 0.1703 - val_accuracy: 0.9363 - val_loss: 0.1713\n",
      "Epoch 35/100\n",
      "\u001b[1m570/570\u001b[0m \u001b[32m━━━━━━━━━━━━━━━━━━━━\u001b[0m\u001b[37m\u001b[0m \u001b[1m1s\u001b[0m 1ms/step - accuracy: 0.9327 - loss: 0.1674 - val_accuracy: 0.9350 - val_loss: 0.1561\n",
      "Epoch 36/100\n",
      "\u001b[1m570/570\u001b[0m \u001b[32m━━━━━━━━━━━━━━━━━━━━\u001b[0m\u001b[37m\u001b[0m \u001b[1m1s\u001b[0m 1ms/step - accuracy: 0.9353 - loss: 0.1634 - val_accuracy: 0.9352 - val_loss: 0.1514\n",
      "Epoch 37/100\n",
      "\u001b[1m570/570\u001b[0m \u001b[32m━━━━━━━━━━━━━━━━━━━━\u001b[0m\u001b[37m\u001b[0m \u001b[1m1s\u001b[0m 1ms/step - accuracy: 0.9342 - loss: 0.1580 - val_accuracy: 0.9363 - val_loss: 0.1728\n",
      "Epoch 38/100\n",
      "\u001b[1m570/570\u001b[0m \u001b[32m━━━━━━━━━━━━━━━━━━━━\u001b[0m\u001b[37m\u001b[0m \u001b[1m1s\u001b[0m 1ms/step - accuracy: 0.9384 - loss: 0.1543 - val_accuracy: 0.9358 - val_loss: 0.1531\n",
      "Epoch 39/100\n",
      "\u001b[1m570/570\u001b[0m \u001b[32m━━━━━━━━━━━━━━━━━━━━\u001b[0m\u001b[37m\u001b[0m \u001b[1m1s\u001b[0m 1ms/step - accuracy: 0.9327 - loss: 0.1607 - val_accuracy: 0.9363 - val_loss: 0.1534\n",
      "Epoch 40/100\n",
      "\u001b[1m570/570\u001b[0m \u001b[32m━━━━━━━━━━━━━━━━━━━━\u001b[0m\u001b[37m\u001b[0m \u001b[1m1s\u001b[0m 1ms/step - accuracy: 0.9356 - loss: 0.1565 - val_accuracy: 0.9352 - val_loss: 0.1446\n",
      "Epoch 41/100\n",
      "\u001b[1m570/570\u001b[0m \u001b[32m━━━━━━━━━━━━━━━━━━━━\u001b[0m\u001b[37m\u001b[0m \u001b[1m1s\u001b[0m 2ms/step - accuracy: 0.9326 - loss: 0.1595 - val_accuracy: 0.9363 - val_loss: 0.1875\n",
      "Epoch 42/100\n",
      "\u001b[1m570/570\u001b[0m \u001b[32m━━━━━━━━━━━━━━━━━━━━\u001b[0m\u001b[37m\u001b[0m \u001b[1m1s\u001b[0m 1ms/step - accuracy: 0.9360 - loss: 0.1513 - val_accuracy: 0.9823 - val_loss: 0.1581\n",
      "Epoch 43/100\n",
      "\u001b[1m570/570\u001b[0m \u001b[32m━━━━━━━━━━━━━━━━━━━━\u001b[0m\u001b[37m\u001b[0m \u001b[1m1s\u001b[0m 1ms/step - accuracy: 0.9339 - loss: 0.1589 - val_accuracy: 0.9360 - val_loss: 0.1474\n",
      "Epoch 44/100\n",
      "\u001b[1m570/570\u001b[0m \u001b[32m━━━━━━━━━━━━━━━━━━━━\u001b[0m\u001b[37m\u001b[0m \u001b[1m1s\u001b[0m 1ms/step - accuracy: 0.9362 - loss: 0.1542 - val_accuracy: 0.9368 - val_loss: 0.1644\n",
      "Epoch 45/100\n",
      "\u001b[1m570/570\u001b[0m \u001b[32m━━━━━━━━━━━━━━━━━━━━\u001b[0m\u001b[37m\u001b[0m \u001b[1m1s\u001b[0m 1ms/step - accuracy: 0.9335 - loss: 0.1523 - val_accuracy: 0.9355 - val_loss: 0.1397\n",
      "Epoch 46/100\n",
      "\u001b[1m570/570\u001b[0m \u001b[32m━━━━━━━━━━━━━━━━━━━━\u001b[0m\u001b[37m\u001b[0m \u001b[1m1s\u001b[0m 1ms/step - accuracy: 0.9377 - loss: 0.1494 - val_accuracy: 0.9360 - val_loss: 0.1846\n",
      "Epoch 47/100\n",
      "\u001b[1m570/570\u001b[0m \u001b[32m━━━━━━━━━━━━━━━━━━━━\u001b[0m\u001b[37m\u001b[0m \u001b[1m1s\u001b[0m 1ms/step - accuracy: 0.9329 - loss: 0.1549 - val_accuracy: 0.9368 - val_loss: 0.1488\n",
      "Epoch 48/100\n",
      "\u001b[1m570/570\u001b[0m \u001b[32m━━━━━━━━━━━━━━━━━━━━\u001b[0m\u001b[37m\u001b[0m \u001b[1m1s\u001b[0m 1ms/step - accuracy: 0.9335 - loss: 0.1554 - val_accuracy: 0.9350 - val_loss: 0.1462\n",
      "Epoch 49/100\n",
      "\u001b[1m570/570\u001b[0m \u001b[32m━━━━━━━━━━━━━━━━━━━━\u001b[0m\u001b[37m\u001b[0m \u001b[1m1s\u001b[0m 1ms/step - accuracy: 0.9347 - loss: 0.1514 - val_accuracy: 0.9345 - val_loss: 0.1425\n",
      "Epoch 50/100\n",
      "\u001b[1m570/570\u001b[0m \u001b[32m━━━━━━━━━━━━━━━━━━━━\u001b[0m\u001b[37m\u001b[0m \u001b[1m1s\u001b[0m 1ms/step - accuracy: 0.9376 - loss: 0.1490 - val_accuracy: 0.9363 - val_loss: 0.1809\n",
      "Epoch 51/100\n",
      "\u001b[1m570/570\u001b[0m \u001b[32m━━━━━━━━━━━━━━━━━━━━\u001b[0m\u001b[37m\u001b[0m \u001b[1m1s\u001b[0m 1ms/step - accuracy: 0.9384 - loss: 0.1481 - val_accuracy: 0.9352 - val_loss: 0.1362\n",
      "Epoch 52/100\n",
      "\u001b[1m570/570\u001b[0m \u001b[32m━━━━━━━━━━━━━━━━━━━━\u001b[0m\u001b[37m\u001b[0m \u001b[1m1s\u001b[0m 1ms/step - accuracy: 0.9376 - loss: 0.1456 - val_accuracy: 0.9818 - val_loss: 0.1549\n",
      "Epoch 53/100\n",
      "\u001b[1m570/570\u001b[0m \u001b[32m━━━━━━━━━━━━━━━━━━━━\u001b[0m\u001b[37m\u001b[0m \u001b[1m1s\u001b[0m 1ms/step - accuracy: 0.9370 - loss: 0.1474 - val_accuracy: 0.9352 - val_loss: 0.1359\n",
      "Epoch 54/100\n",
      "\u001b[1m570/570\u001b[0m \u001b[32m━━━━━━━━━━━━━━━━━━━━\u001b[0m\u001b[37m\u001b[0m \u001b[1m1s\u001b[0m 1ms/step - accuracy: 0.9357 - loss: 0.1486 - val_accuracy: 0.9347 - val_loss: 0.1379\n",
      "Epoch 55/100\n",
      "\u001b[1m570/570\u001b[0m \u001b[32m━━━━━━━━━━━━━━━━━━━━\u001b[0m\u001b[37m\u001b[0m \u001b[1m1s\u001b[0m 1ms/step - accuracy: 0.9363 - loss: 0.1470 - val_accuracy: 0.9350 - val_loss: 0.1403\n",
      "Epoch 56/100\n",
      "\u001b[1m570/570\u001b[0m \u001b[32m━━━━━━━━━━━━━━━━━━━━\u001b[0m\u001b[37m\u001b[0m \u001b[1m1s\u001b[0m 1ms/step - accuracy: 0.9364 - loss: 0.1496 - val_accuracy: 0.9365 - val_loss: 0.1541\n",
      "Epoch 57/100\n",
      "\u001b[1m570/570\u001b[0m \u001b[32m━━━━━━━━━━━━━━━━━━━━\u001b[0m\u001b[37m\u001b[0m \u001b[1m1s\u001b[0m 1ms/step - accuracy: 0.9405 - loss: 0.1418 - val_accuracy: 0.9821 - val_loss: 0.1491\n",
      "Epoch 58/100\n",
      "\u001b[1m570/570\u001b[0m \u001b[32m━━━━━━━━━━━━━━━━━━━━\u001b[0m\u001b[37m\u001b[0m \u001b[1m1s\u001b[0m 1ms/step - accuracy: 0.9384 - loss: 0.1450 - val_accuracy: 0.9350 - val_loss: 0.1410\n",
      "Epoch 59/100\n",
      "\u001b[1m570/570\u001b[0m \u001b[32m━━━━━━━━━━━━━━━━━━━━\u001b[0m\u001b[37m\u001b[0m \u001b[1m1s\u001b[0m 1ms/step - accuracy: 0.9340 - loss: 0.1561 - val_accuracy: 0.9363 - val_loss: 0.1742\n",
      "Epoch 60/100\n",
      "\u001b[1m570/570\u001b[0m \u001b[32m━━━━━━━━━━━━━━━━━━━━\u001b[0m\u001b[37m\u001b[0m \u001b[1m1s\u001b[0m 1ms/step - accuracy: 0.9338 - loss: 0.1477 - val_accuracy: 0.9352 - val_loss: 0.1335\n",
      "Epoch 61/100\n",
      "\u001b[1m570/570\u001b[0m \u001b[32m━━━━━━━━━━━━━━━━━━━━\u001b[0m\u001b[37m\u001b[0m \u001b[1m1s\u001b[0m 1ms/step - accuracy: 0.9335 - loss: 0.1521 - val_accuracy: 0.9355 - val_loss: 0.1331\n",
      "Epoch 62/100\n",
      "\u001b[1m570/570\u001b[0m \u001b[32m━━━━━━━━━━━━━━━━━━━━\u001b[0m\u001b[37m\u001b[0m \u001b[1m1s\u001b[0m 1ms/step - accuracy: 0.9389 - loss: 0.1440 - val_accuracy: 0.9350 - val_loss: 0.1387\n",
      "Epoch 63/100\n",
      "\u001b[1m570/570\u001b[0m \u001b[32m━━━━━━━━━━━━━━━━━━━━\u001b[0m\u001b[37m\u001b[0m \u001b[1m1s\u001b[0m 1ms/step - accuracy: 0.9368 - loss: 0.1497 - val_accuracy: 0.9363 - val_loss: 0.1349\n",
      "Epoch 64/100\n",
      "\u001b[1m570/570\u001b[0m \u001b[32m━━━━━━━━━━━━━━━━━━━━\u001b[0m\u001b[37m\u001b[0m \u001b[1m1s\u001b[0m 2ms/step - accuracy: 0.9344 - loss: 0.1493 - val_accuracy: 0.9358 - val_loss: 0.1726\n",
      "Epoch 65/100\n",
      "\u001b[1m570/570\u001b[0m \u001b[32m━━━━━━━━━━━━━━━━━━━━\u001b[0m\u001b[37m\u001b[0m \u001b[1m1s\u001b[0m 1ms/step - accuracy: 0.9348 - loss: 0.1479 - val_accuracy: 0.9358 - val_loss: 0.1682\n",
      "Epoch 66/100\n",
      "\u001b[1m570/570\u001b[0m \u001b[32m━━━━━━━━━━━━━━━━━━━━\u001b[0m\u001b[37m\u001b[0m \u001b[1m1s\u001b[0m 1ms/step - accuracy: 0.9363 - loss: 0.1437 - val_accuracy: 0.9345 - val_loss: 0.1349\n",
      "Epoch 67/100\n",
      "\u001b[1m570/570\u001b[0m \u001b[32m━━━━━━━━━━━━━━━━━━━━\u001b[0m\u001b[37m\u001b[0m \u001b[1m1s\u001b[0m 1ms/step - accuracy: 0.9357 - loss: 0.1481 - val_accuracy: 0.9363 - val_loss: 0.1343\n",
      "Epoch 68/100\n",
      "\u001b[1m570/570\u001b[0m \u001b[32m━━━━━━━━━━━━━━━━━━━━\u001b[0m\u001b[37m\u001b[0m \u001b[1m1s\u001b[0m 1ms/step - accuracy: 0.9381 - loss: 0.1472 - val_accuracy: 0.9345 - val_loss: 0.1336\n",
      "Epoch 69/100\n",
      "\u001b[1m570/570\u001b[0m \u001b[32m━━━━━━━━━━━━━━━━━━━━\u001b[0m\u001b[37m\u001b[0m \u001b[1m1s\u001b[0m 1ms/step - accuracy: 0.9347 - loss: 0.1493 - val_accuracy: 0.9358 - val_loss: 0.1320\n",
      "Epoch 70/100\n",
      "\u001b[1m570/570\u001b[0m \u001b[32m━━━━━━━━━━━━━━━━━━━━\u001b[0m\u001b[37m\u001b[0m \u001b[1m1s\u001b[0m 1ms/step - accuracy: 0.9374 - loss: 0.1444 - val_accuracy: 0.9363 - val_loss: 0.1495\n",
      "Epoch 71/100\n",
      "\u001b[1m570/570\u001b[0m \u001b[32m━━━━━━━━━━━━━━━━━━━━\u001b[0m\u001b[37m\u001b[0m \u001b[1m1s\u001b[0m 1ms/step - accuracy: 0.9310 - loss: 0.1525 - val_accuracy: 0.9360 - val_loss: 0.1808\n",
      "Epoch 72/100\n",
      "\u001b[1m570/570\u001b[0m \u001b[32m━━━━━━━━━━━━━━━━━━━━\u001b[0m\u001b[37m\u001b[0m \u001b[1m1s\u001b[0m 1ms/step - accuracy: 0.9360 - loss: 0.1468 - val_accuracy: 0.9363 - val_loss: 0.1498\n",
      "Epoch 73/100\n",
      "\u001b[1m570/570\u001b[0m \u001b[32m━━━━━━━━━━━━━━━━━━━━\u001b[0m\u001b[37m\u001b[0m \u001b[1m1s\u001b[0m 1ms/step - accuracy: 0.9371 - loss: 0.1464 - val_accuracy: 0.9360 - val_loss: 0.1337\n",
      "Epoch 74/100\n",
      "\u001b[1m570/570\u001b[0m \u001b[32m━━━━━━━━━━━━━━━━━━━━\u001b[0m\u001b[37m\u001b[0m \u001b[1m1s\u001b[0m 1ms/step - accuracy: 0.9341 - loss: 0.1500 - val_accuracy: 0.9365 - val_loss: 0.2243\n",
      "Epoch 75/100\n",
      "\u001b[1m570/570\u001b[0m \u001b[32m━━━━━━━━━━━━━━━━━━━━\u001b[0m\u001b[37m\u001b[0m \u001b[1m1s\u001b[0m 1ms/step - accuracy: 0.9380 - loss: 0.1467 - val_accuracy: 0.9360 - val_loss: 0.1314\n",
      "Epoch 76/100\n",
      "\u001b[1m570/570\u001b[0m \u001b[32m━━━━━━━━━━━━━━━━━━━━\u001b[0m\u001b[37m\u001b[0m \u001b[1m1s\u001b[0m 1ms/step - accuracy: 0.9356 - loss: 0.1528 - val_accuracy: 0.9363 - val_loss: 0.1386\n",
      "Epoch 77/100\n",
      "\u001b[1m570/570\u001b[0m \u001b[32m━━━━━━━━━━━━━━━━━━━━\u001b[0m\u001b[37m\u001b[0m \u001b[1m1s\u001b[0m 1ms/step - accuracy: 0.9346 - loss: 0.1467 - val_accuracy: 0.9352 - val_loss: 0.1314\n",
      "Epoch 78/100\n",
      "\u001b[1m570/570\u001b[0m \u001b[32m━━━━━━━━━━━━━━━━━━━━\u001b[0m\u001b[37m\u001b[0m \u001b[1m1s\u001b[0m 1ms/step - accuracy: 0.9378 - loss: 0.1468 - val_accuracy: 0.9350 - val_loss: 0.1330\n",
      "Epoch 79/100\n",
      "\u001b[1m570/570\u001b[0m \u001b[32m━━━━━━━━━━━━━━━━━━━━\u001b[0m\u001b[37m\u001b[0m \u001b[1m1s\u001b[0m 1ms/step - accuracy: 0.9383 - loss: 0.1419 - val_accuracy: 0.9355 - val_loss: 0.1313\n",
      "Epoch 80/100\n",
      "\u001b[1m570/570\u001b[0m \u001b[32m━━━━━━━━━━━━━━━━━━━━\u001b[0m\u001b[37m\u001b[0m \u001b[1m1s\u001b[0m 1ms/step - accuracy: 0.9346 - loss: 0.1444 - val_accuracy: 0.9363 - val_loss: 0.1451\n",
      "Epoch 81/100\n",
      "\u001b[1m570/570\u001b[0m \u001b[32m━━━━━━━━━━━━━━━━━━━━\u001b[0m\u001b[37m\u001b[0m \u001b[1m1s\u001b[0m 1ms/step - accuracy: 0.9383 - loss: 0.1464 - val_accuracy: 0.9358 - val_loss: 0.1335\n",
      "Epoch 82/100\n",
      "\u001b[1m570/570\u001b[0m \u001b[32m━━━━━━━━━━━━━━━━━━━━\u001b[0m\u001b[37m\u001b[0m \u001b[1m1s\u001b[0m 1ms/step - accuracy: 0.9355 - loss: 0.1486 - val_accuracy: 0.9368 - val_loss: 0.1606\n",
      "Epoch 83/100\n",
      "\u001b[1m570/570\u001b[0m \u001b[32m━━━━━━━━━━━━━━━━━━━━\u001b[0m\u001b[37m\u001b[0m \u001b[1m1s\u001b[0m 1ms/step - accuracy: 0.9358 - loss: 0.1481 - val_accuracy: 0.9352 - val_loss: 0.1354\n",
      "Epoch 84/100\n",
      "\u001b[1m570/570\u001b[0m \u001b[32m━━━━━━━━━━━━━━━━━━━━\u001b[0m\u001b[37m\u001b[0m \u001b[1m1s\u001b[0m 1ms/step - accuracy: 0.9388 - loss: 0.1419 - val_accuracy: 0.9365 - val_loss: 0.2030\n",
      "Epoch 85/100\n",
      "\u001b[1m570/570\u001b[0m \u001b[32m━━━━━━━━━━━━━━━━━━━━\u001b[0m\u001b[37m\u001b[0m \u001b[1m1s\u001b[0m 1ms/step - accuracy: 0.9369 - loss: 0.1462 - val_accuracy: 0.9360 - val_loss: 0.1354\n",
      "Epoch 86/100\n",
      "\u001b[1m570/570\u001b[0m \u001b[32m━━━━━━━━━━━━━━━━━━━━\u001b[0m\u001b[37m\u001b[0m \u001b[1m1s\u001b[0m 2ms/step - accuracy: 0.9362 - loss: 0.1467 - val_accuracy: 0.9363 - val_loss: 0.1308\n",
      "Epoch 87/100\n",
      "\u001b[1m570/570\u001b[0m \u001b[32m━━━━━━━━━━━━━━━━━━━━\u001b[0m\u001b[37m\u001b[0m \u001b[1m1s\u001b[0m 1ms/step - accuracy: 0.9378 - loss: 0.1457 - val_accuracy: 0.9363 - val_loss: 0.1521\n",
      "Epoch 88/100\n",
      "\u001b[1m570/570\u001b[0m \u001b[32m━━━━━━━━━━━━━━━━━━━━\u001b[0m\u001b[37m\u001b[0m \u001b[1m1s\u001b[0m 1ms/step - accuracy: 0.9365 - loss: 0.1435 - val_accuracy: 0.9350 - val_loss: 0.1319\n",
      "Epoch 89/100\n",
      "\u001b[1m570/570\u001b[0m \u001b[32m━━━━━━━━━━━━━━━━━━━━\u001b[0m\u001b[37m\u001b[0m \u001b[1m1s\u001b[0m 1ms/step - accuracy: 0.9356 - loss: 0.1450 - val_accuracy: 0.9363 - val_loss: 0.1369\n",
      "Epoch 90/100\n",
      "\u001b[1m570/570\u001b[0m \u001b[32m━━━━━━━━━━━━━━━━━━━━\u001b[0m\u001b[37m\u001b[0m \u001b[1m1s\u001b[0m 1ms/step - accuracy: 0.9370 - loss: 0.1501 - val_accuracy: 0.9363 - val_loss: 0.1313\n",
      "Epoch 91/100\n",
      "\u001b[1m570/570\u001b[0m \u001b[32m━━━━━━━━━━━━━━━━━━━━\u001b[0m\u001b[37m\u001b[0m \u001b[1m1s\u001b[0m 1ms/step - accuracy: 0.9356 - loss: 0.1466 - val_accuracy: 0.9360 - val_loss: 0.1358\n",
      "Epoch 92/100\n",
      "\u001b[1m570/570\u001b[0m \u001b[32m━━━━━━━━━━━━━━━━━━━━\u001b[0m\u001b[37m\u001b[0m \u001b[1m1s\u001b[0m 1ms/step - accuracy: 0.9382 - loss: 0.1503 - val_accuracy: 0.9363 - val_loss: 0.1774\n",
      "Epoch 93/100\n",
      "\u001b[1m570/570\u001b[0m \u001b[32m━━━━━━━━━━━━━━━━━━━━\u001b[0m\u001b[37m\u001b[0m \u001b[1m1s\u001b[0m 1ms/step - accuracy: 0.9370 - loss: 0.1488 - val_accuracy: 0.9365 - val_loss: 0.1740\n",
      "Epoch 94/100\n",
      "\u001b[1m570/570\u001b[0m \u001b[32m━━━━━━━━━━━━━━━━━━━━\u001b[0m\u001b[37m\u001b[0m \u001b[1m1s\u001b[0m 1ms/step - accuracy: 0.9375 - loss: 0.1433 - val_accuracy: 0.9350 - val_loss: 0.1338\n",
      "Epoch 95/100\n",
      "\u001b[1m570/570\u001b[0m \u001b[32m━━━━━━━━━━━━━━━━━━━━\u001b[0m\u001b[37m\u001b[0m \u001b[1m1s\u001b[0m 1ms/step - accuracy: 0.9380 - loss: 0.1415 - val_accuracy: 0.9365 - val_loss: 0.1740\n",
      "Epoch 96/100\n",
      "\u001b[1m570/570\u001b[0m \u001b[32m━━━━━━━━━━━━━━━━━━━━\u001b[0m\u001b[37m\u001b[0m \u001b[1m1s\u001b[0m 1ms/step - accuracy: 0.9338 - loss: 0.1510 - val_accuracy: 0.9347 - val_loss: 0.1425\n",
      "Epoch 97/100\n",
      "\u001b[1m570/570\u001b[0m \u001b[32m━━━━━━━━━━━━━━━━━━━━\u001b[0m\u001b[37m\u001b[0m \u001b[1m1s\u001b[0m 1ms/step - accuracy: 0.9373 - loss: 0.1422 - val_accuracy: 0.9355 - val_loss: 0.1310\n",
      "Epoch 98/100\n",
      "\u001b[1m570/570\u001b[0m \u001b[32m━━━━━━━━━━━━━━━━━━━━\u001b[0m\u001b[37m\u001b[0m \u001b[1m1s\u001b[0m 1ms/step - accuracy: 0.9343 - loss: 0.1540 - val_accuracy: 0.9355 - val_loss: 0.1309\n",
      "Epoch 99/100\n",
      "\u001b[1m570/570\u001b[0m \u001b[32m━━━━━━━━━━━━━━━━━━━━\u001b[0m\u001b[37m\u001b[0m \u001b[1m1s\u001b[0m 1ms/step - accuracy: 0.9354 - loss: 0.1478 - val_accuracy: 0.9365 - val_loss: 0.1665\n",
      "Epoch 100/100\n",
      "\u001b[1m570/570\u001b[0m \u001b[32m━━━━━━━━━━━━━━━━━━━━\u001b[0m\u001b[37m\u001b[0m \u001b[1m1s\u001b[0m 1ms/step - accuracy: 0.9368 - loss: 0.1436 - val_accuracy: 0.9363 - val_loss: 0.1408\n"
     ]
    }
   ],
   "source": [
    "# Huấn luyện mô hình\n",
    "history = model.fit(X_train, y_train, batch_size=32, epochs=100, validation_data=(X_val, y_val))"
   ]
  },
  {
   "cell_type": "code",
   "execution_count": 24,
   "id": "8af28088-2e49-4677-8f5f-368cf236d161",
   "metadata": {},
   "outputs": [
    {
     "name": "stdout",
     "output_type": "stream",
     "text": [
      "\u001b[1m123/123\u001b[0m \u001b[32m━━━━━━━━━━━━━━━━━━━━\u001b[0m\u001b[37m\u001b[0m \u001b[1m0s\u001b[0m 1ms/step - accuracy: 0.9319 - loss: 0.1425\n",
      "Độ chính xác trên tập kiểm tra: 0.9324462413787842\n"
     ]
    }
   ],
   "source": [
    "# Đánh giá mô hình trên tập kiểm tra\n",
    "test_accuracy = model.evaluate(X_test, y_test)[1]\n",
    "print(f\"Độ chính xác trên tập kiểm tra: {test_accuracy}\")"
   ]
  },
  {
   "cell_type": "code",
   "execution_count": 25,
   "id": "498ed039-b72d-49f0-8254-aceaa8dd0f5e",
   "metadata": {},
   "outputs": [
    {
     "data": {
      "image/png": "[encoded data removed]",
      "text/plain": [
       "<Figure size 1000x600 with 1 Axes>"
      ]
     },
     "metadata": {},
     "output_type": "display_data"
    }
   ],
   "source": [
    "# Vẽ biểu đồ mất mát của mô hình\n",
    "plt.figure(figsize=(10, 6))\n",
    "plt.plot(history.history['loss'], label='Huấn luyện')\n",
    "plt.plot(history.history['val_loss'], label='Xác thực')\n",
    "plt.title('Mất mát của mô hình')\n",
    "plt.xlabel('Epoch')\n",
    "plt.ylabel('Mất mát')\n",
    "plt.legend()\n",
    "plt.show()"
   ]
  },
  {
   "cell_type": "code",
   "execution_count": null,
   "id": "c959beb9-3d50-47e4-b7b1-07961253e960",
   "metadata": {},
   "outputs": [],
   "source": []
  }
 ],
 "metadata": {
  "kernelspec": {
   "display_name": "Python (myenv)",
   "language": "python",
   "name": "myenv"
  },
  "language_info": {
   "codemirror_mode": {
    "name": "ipython",
    "version": 3
   },
   "file_extension": ".py",
   "mimetype": "text/x-python",
   "name": "python",
   "nbconvert_exporter": "python",
   "pygments_lexer": "ipython3",
   "version": "3.10.16"
  }
 },
 "nbformat": 4,
 "nbformat_minor": 5
}
